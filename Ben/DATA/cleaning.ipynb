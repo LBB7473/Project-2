{
 "cells": [
  {
   "cell_type": "code",
   "execution_count": 1,
   "metadata": {},
   "outputs": [],
   "source": [
    "import json\n",
    "import pandas as pd\n",
    "from pprint import pprint\n",
    "import requests"
   ]
  },
  {
   "cell_type": "markdown",
   "metadata": {},
   "source": [
    "# Heart and Change Overlap zips"
   ]
  },
  {
   "cell_type": "markdown",
   "metadata": {},
   "source": [
    "## Change"
   ]
  },
  {
   "cell_type": "code",
   "execution_count": 2,
   "metadata": {},
   "outputs": [],
   "source": [
    "base_url = \"https://opendata.arcgis.com/datasets/57e9231c3bd34d44ae49b309b0cb440e_1.geojson\"\n",
    "response = requests.get(base_url)"
   ]
  },
  {
   "cell_type": "code",
   "execution_count": 3,
   "metadata": {},
   "outputs": [],
   "source": [
    "change = response.json()"
   ]
  },
  {
   "cell_type": "code",
   "execution_count": 4,
   "metadata": {},
   "outputs": [],
   "source": [
    "object_change = len(change[\"features\"])"
   ]
  },
  {
   "cell_type": "code",
   "execution_count": 5,
   "metadata": {},
   "outputs": [],
   "source": [
    "zip_change = []\n",
    "i = 0\n",
    "while i < object_change:\n",
    "    zip_change.append(change[\"features\"][i][\"properties\"][\"zipcode\"])\n",
    "    i += 1\n",
    "zip_change = set(zip_change)"
   ]
  },
  {
   "cell_type": "markdown",
   "metadata": {},
   "source": [
    "## Heart"
   ]
  },
  {
   "cell_type": "code",
   "execution_count": 6,
   "metadata": {},
   "outputs": [],
   "source": [
    "base_url = \"https://opendata.arcgis.com/datasets/26ebd4d3d7e6423587ed10be04c201d8_0.geojson\"\n",
    "response = requests.get(base_url)"
   ]
  },
  {
   "cell_type": "code",
   "execution_count": 7,
   "metadata": {},
   "outputs": [],
   "source": [
    "heart = response.json()"
   ]
  },
  {
   "cell_type": "code",
   "execution_count": 8,
   "metadata": {},
   "outputs": [],
   "source": [
    "object_heart = len(heart[\"features\"])"
   ]
  },
  {
   "cell_type": "code",
   "execution_count": 9,
   "metadata": {},
   "outputs": [],
   "source": [
    "zip_heart = []\n",
    "i = 0\n",
    "while i < object_heart:\n",
    "    zip_heart.append(heart[\"features\"][i][\"properties\"][\"ZIPCODE\"])\n",
    "    i += 1\n",
    "zip_heart = set(zip_heart)"
   ]
  },
  {
   "cell_type": "markdown",
   "metadata": {},
   "source": [
    "## List Comparison"
   ]
  },
  {
   "cell_type": "code",
   "execution_count": 10,
   "metadata": {},
   "outputs": [],
   "source": [
    "overlap = [value for value in zip_change if value in zip_heart]"
   ]
  },
  {
   "cell_type": "code",
   "execution_count": 11,
   "metadata": {},
   "outputs": [
    {
     "data": {
      "text/plain": [
       "150"
      ]
     },
     "execution_count": 11,
     "metadata": {},
     "output_type": "execute_result"
    }
   ],
   "source": [
    "len(overlap)"
   ]
  },
  {
   "cell_type": "markdown",
   "metadata": {},
   "source": [
    "## Reduce Data"
   ]
  },
  {
   "cell_type": "code",
   "execution_count": 12,
   "metadata": {},
   "outputs": [
    {
     "name": "stdout",
     "output_type": "stream",
     "text": [
      "90280\n",
      "91202\n",
      "90262\n",
      "90010\n",
      "90301\n",
      "End of change ZIP's excluded\n",
      "90822\n",
      "90250\n",
      "91501\n",
      "91754\n",
      "91208\n",
      "End of heart ZIP's excluded\n"
     ]
    }
   ],
   "source": [
    "for x in zip_change:\n",
    "    if x not in overlap:\n",
    "        print(x)\n",
    "print(\"End of change ZIP's excluded\")\n",
    "for x in zip_heart:\n",
    "    if x not in overlap:\n",
    "        print(x)\n",
    "print(\"End of heart ZIP's excluded\")"
   ]
  },
  {
   "cell_type": "markdown",
   "metadata": {},
   "source": [
    "### Change"
   ]
  },
  {
   "cell_type": "code",
   "execution_count": 13,
   "metadata": {},
   "outputs": [],
   "source": [
    "i = 0\n",
    "while i < object_change:\n",
    "    if change[\"features\"][i][\"properties\"][\"zipcode\"] not in overlap:\n",
    "        change[\"features\"][i].pop(\"geometry\")\n",
    "        change[\"features\"][i].pop(\"properties\")\n",
    "        change[\"features\"][i].pop(\"type\")\n",
    "    i += 1"
   ]
  },
  {
   "cell_type": "markdown",
   "metadata": {},
   "source": [
    "### Heart"
   ]
  },
  {
   "cell_type": "code",
   "execution_count": 14,
   "metadata": {},
   "outputs": [],
   "source": [
    "i = 0\n",
    "while i < object_heart:\n",
    "    if heart[\"features\"][i][\"properties\"][\"ZIPCODE\"] not in overlap:\n",
    "        heart[\"features\"][i].pop(\"geometry\")\n",
    "        heart[\"features\"][i].pop(\"properties\")\n",
    "        heart[\"features\"][i].pop(\"type\")\n",
    "    i += 1"
   ]
  },
  {
   "cell_type": "markdown",
   "metadata": {},
   "source": [
    "# Tobacco"
   ]
  },
  {
   "cell_type": "code",
   "execution_count": 34,
   "metadata": {},
   "outputs": [],
   "source": [
    "with open('raw_tobacco.geojson') as x:\n",
    "    tobacco = json.load(x)"
   ]
  },
  {
   "cell_type": "code",
   "execution_count": 35,
   "metadata": {},
   "outputs": [
    {
     "data": {
      "text/plain": [
       "945384954"
      ]
     },
     "execution_count": 35,
     "metadata": {},
     "output_type": "execute_result"
    }
   ],
   "source": [
    "tobacco[\"features\"][0][\"properties\"][\"ZIPCODE\"]"
   ]
  },
  {
   "cell_type": "code",
   "execution_count": 36,
   "metadata": {},
   "outputs": [],
   "source": [
    "object_tobacco = len(tobacco[\"features\"])"
   ]
  },
  {
   "cell_type": "code",
   "execution_count": 37,
   "metadata": {},
   "outputs": [],
   "source": [
    "i = 0\n",
    "while i < object_tobacco:\n",
    "    tobacco[\"features\"][i][\"properties\"][\"ZIPCODE\"] = str(tobacco[\"features\"][i][\"properties\"][\"ZIPCODE\"])\n",
    "    tobacco[\"features\"][i][\"properties\"][\"ZIPCODE\"] = tobacco[\"features\"][i][\"properties\"][\"ZIPCODE\"][:-4]\n",
    "    i += 1"
   ]
  },
  {
   "cell_type": "code",
   "execution_count": 38,
   "metadata": {},
   "outputs": [],
   "source": [
    "i = 0\n",
    "while i < object_tobacco:\n",
    "    if tobacco[\"features\"][i][\"properties\"][\"ZIPCODE\"] not in overlap:\n",
    "        tobacco[\"features\"][i].pop(\"geometry\")\n",
    "        tobacco[\"features\"][i].pop(\"properties\")\n",
    "        tobacco[\"features\"][i].pop(\"type\")\n",
    "    i += 1"
   ]
  },
  {
   "cell_type": "code",
   "execution_count": 40,
   "metadata": {},
   "outputs": [],
   "source": [
    "with open('tob.geojson', 'w') as fp:\n",
    "    json.dump(tobacco, fp, indent = 4)"
   ]
  },
  {
   "cell_type": "code",
   "execution_count": 41,
   "metadata": {},
   "outputs": [],
   "source": [
    "with open('heart.geojson', 'w') as fp:\n",
    "    json.dump(heart, fp, indent = 4)"
   ]
  },
  {
   "cell_type": "code",
   "execution_count": 42,
   "metadata": {},
   "outputs": [],
   "source": [
    "with open('change.geojson', 'w') as fp:\n",
    "    json.dump(change, fp, indent = 4)"
   ]
  },
  {
   "cell_type": "code",
   "execution_count": null,
   "metadata": {},
   "outputs": [],
   "source": []
  }
 ],
 "metadata": {
  "kernelspec": {
   "display_name": "Python 3",
   "language": "python",
   "name": "python3"
  },
  "language_info": {
   "codemirror_mode": {
    "name": "ipython",
    "version": 3
   },
   "file_extension": ".py",
   "mimetype": "text/x-python",
   "name": "python",
   "nbconvert_exporter": "python",
   "pygments_lexer": "ipython3",
   "version": "3.8.5"
  }
 },
 "nbformat": 4,
 "nbformat_minor": 4
}
